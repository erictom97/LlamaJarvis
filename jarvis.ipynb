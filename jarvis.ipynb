{
 "cells": [
  {
   "cell_type": "code",
   "execution_count": 1,
   "metadata": {},
   "outputs": [
    {
     "name": "stderr",
     "output_type": "stream",
     "text": [
      "/Users/erictommathews/miniforge3/envs/pytorch/lib/python3.9/site-packages/tqdm/auto.py:21: TqdmWarning: IProgress not found. Please update jupyter and ipywidgets. See https://ipywidgets.readthedocs.io/en/stable/user_install.html\n",
      "  from .autonotebook import tqdm as notebook_tqdm\n"
     ]
    }
   ],
   "source": [
    "import speech_recognition as sr\n",
    "from transformers import AutoTokenizer, AutoModelForCausalLM\n",
    "import pyttsx3\n",
    "import torch"
   ]
  },
  {
   "cell_type": "code",
   "execution_count": 2,
   "metadata": {},
   "outputs": [],
   "source": [
    "import nest_asyncio\n",
    "nest_asyncio.apply()"
   ]
  },
  {
   "cell_type": "code",
   "execution_count": 17,
   "metadata": {},
   "outputs": [],
   "source": [
    "# Initialize speech recognition and text-to-speech\n",
    "recognizer = sr.Recognizer()\n",
    "recognizer.dynamic_energy_threshold = False  # Ensure the timeout is respected\n",
    "engine = pyttsx3.init()\n",
    "\n",
    "# Change the voice and adjust the speech rate\n",
    "voices = engine.getProperty('voices')\n",
    "voice_id = 'com.apple.speech.synthesis.voice.samantha.premium'\n",
    "engine.setProperty('voice', voice_id)\n",
    "engine.setProperty('rate', 190)"
   ]
  },
  {
   "cell_type": "code",
   "execution_count": 18,
   "metadata": {},
   "outputs": [],
   "source": [
    "speak(\"Hello, I am a chatbot. How can I help you today?\")"
   ]
  },
  {
   "cell_type": "code",
   "execution_count": 19,
   "metadata": {},
   "outputs": [],
   "source": [
    "import ollama\n",
    "# response = ollama.chat(model='llama2', messages=[\n",
    "#   {\n",
    "#     'role': 'user',\n",
    "#     'content': 'Why is the sky blue?',\n",
    "#     'context': [\"always answer in 2 sentences\"]\n",
    "#   },\n",
    "# ])\n",
    "# print(response['message']['content'])"
   ]
  },
  {
   "cell_type": "code",
   "execution_count": 20,
   "metadata": {},
   "outputs": [],
   "source": [
    "def listen(timeout=5, phrase_time_limit=5):\n",
    "    with sr.Microphone() as source:\n",
    "        print(\"Listening...\")\n",
    "        try:\n",
    "            audio = recognizer.listen(source, timeout=timeout, phrase_time_limit=phrase_time_limit)\n",
    "            text = recognizer.recognize_google(audio)\n",
    "            return text.lower()\n",
    "        except sr.WaitTimeoutError:\n",
    "            print(\"Listening timed out after 10 seconds\")\n",
    "            return \"\"\n",
    "        except sr.UnknownValueError:\n",
    "            print(\"Could not understand audio\")\n",
    "            return \"\"\n",
    "        except sr.RequestError as e:\n",
    "            print(f\"Could not request results; {e}\")\n",
    "            return \"\""
   ]
  },
  {
   "cell_type": "code",
   "execution_count": 21,
   "metadata": {},
   "outputs": [],
   "source": [
    "def speak(text):\n",
    "    engine.say(text)\n",
    "    engine.runAndWait()"
   ]
  },
  {
   "cell_type": "code",
   "execution_count": null,
   "metadata": {},
   "outputs": [],
   "source": []
  },
  {
   "cell_type": "code",
   "execution_count": 22,
   "metadata": {},
   "outputs": [],
   "source": [
    "def generate_response(text):\n",
    "    response = ollama.chat(model='llama2', messages=[\n",
    "        {\n",
    "            'role': 'user',\n",
    "            'content': text+\". Answer always in no more than 2 sentences\",\n",
    "        },\n",
    "    ])\n",
    "    return response['message']['content']"
   ]
  },
  {
   "cell_type": "code",
   "execution_count": 23,
   "metadata": {},
   "outputs": [],
   "source": [
    "import time\n",
    "def main():\n",
    "    assistant_name = \"jarvis\"\n",
    "    speak(f\"Hello, I'm {assistant_name}. How can I help you?\")\n",
    "    \n",
    "    while True:\n",
    "        print(\"Listening... (Say 'exit' to stop)\")\n",
    "        user_input = listen(timeout=5)\n",
    "        print(f\"You said: {user_input}\")\n",
    "        \n",
    "        if user_input:  # Check if user_input is not empty\n",
    "            if \"exit\" in user_input.lower():\n",
    "                speak(\"Goodbye!\")\n",
    "                break\n",
    "            elif assistant_name in user_input.lower():\n",
    "                user_input = user_input.replace(assistant_name, \"\").strip()\n",
    "                response = generate_response(user_input)\n",
    "                print(response)\n",
    "                #wait 2 seconds before speaking\n",
    "                time.sleep(2)\n",
    "                speak(response)\n",
    "            else:\n",
    "                print(\"I'm waiting for my name. Say 'Jarvis' to get my attention.\")\n",
    "        else:\n",
    "            print(\"I didn't catch that. Please try again.\")"
   ]
  },
  {
   "cell_type": "code",
   "execution_count": 24,
   "metadata": {},
   "outputs": [
    {
     "name": "stdout",
     "output_type": "stream",
     "text": [
      "Listening... (Say 'exit' to stop)\n",
      "Listening...\n",
      "You said: hi jarvis how are you today\n",
      "\n",
      "I'm good, thanks for asking! I'm feeling energized and ready to take on the day.\n",
      "Listening... (Say 'exit' to stop)\n",
      "Listening...\n",
      "You said: thanks jarvis exit\n"
     ]
    }
   ],
   "source": [
    "main()"
   ]
  },
  {
   "cell_type": "code",
   "execution_count": null,
   "metadata": {},
   "outputs": [],
   "source": []
  },
  {
   "cell_type": "code",
   "execution_count": null,
   "metadata": {},
   "outputs": [],
   "source": []
  }
 ],
 "metadata": {
  "kernelspec": {
   "display_name": "pytorch",
   "language": "python",
   "name": "python3"
  },
  "language_info": {
   "codemirror_mode": {
    "name": "ipython",
    "version": 3
   },
   "file_extension": ".py",
   "mimetype": "text/x-python",
   "name": "python",
   "nbconvert_exporter": "python",
   "pygments_lexer": "ipython3",
   "version": "3.9.16"
  }
 },
 "nbformat": 4,
 "nbformat_minor": 2
}
